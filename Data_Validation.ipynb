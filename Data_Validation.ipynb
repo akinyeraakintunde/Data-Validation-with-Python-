{
  "nbformat": 4,
  "nbformat_minor": 0,
  "metadata": {
    "accelerator": "GPU",
    "colab": {
      "name": "Data Validation .ipynb",
      "provenance": [],
      "collapsed_sections": [],
      "toc_visible": true
    },
    "kernelspec": {
      "display_name": "Python 3",
      "language": "python",
      "name": "python3"
    },
    "language_info": {
      "codemirror_mode": {
        "name": "ipython",
        "version": 3
      },
      "file_extension": ".py",
      "mimetype": "text/x-python",
      "name": "python",
      "nbconvert_exporter": "python",
      "pygments_lexer": "ipython3",
      "version": "3.8.5"
    }
  },
  "cells": [
    {
      "cell_type": "markdown",
      "metadata": {
        "id": "KvJG03gp_eUe"
      },
      "source": [
        "## IMPORT LIBRARIES"
      ]
    },
    {
      "cell_type": "code",
      "metadata": {
        "id": "GsxsCJyNFxBZ"
      },
      "source": [
        "# Import libraries\n",
        "import pandas as pd\n",
        "from functools import reduce\n",
        "import numpy as np\n",
        "import matplotlib.pyplot as plt\n",
        "import seaborn as sns\n",
        "from sklearn.metrics import auc, classification_report, roc_auc_score\n",
        "from sklearn.model_selection import train_test_split\n",
        "from lightgbm import LGBMClassifier\n",
        "from sklearn.ensemble import RandomForestClassifier\n",
        "pd.set_option('max_colwidth', 500)\n",
        "%matplotlib inline\n",
        "import seaborn as sns\n",
        "import matplotlib.pyplot as plt\n",
        "\n",
        "sns.set()\n",
        "import warnings\n",
        "warnings.filterwarnings('ignore')\n",
        "\n",
        "from sklearn.preprocessing import LabelEncoder\n",
        "\n",
        "label = LabelEncoder()"
      ],
      "execution_count": 18,
      "outputs": []
    },
    {
      "cell_type": "markdown",
      "metadata": {
        "id": "AAuH82Xm_eUh"
      },
      "source": [
        "## READ DATA AND MERGE"
      ]
    },
    {
      "cell_type": "code",
      "metadata": {
        "id": "LtOkgxDOCuD-"
      },
      "source": [
        "b = pd.read_csv(\"/content/aibl_apoeres_01-Jun-2018.csv\")\n",
        "c = pd.read_csv(\"/content/aibl_cdr_01-Jun-2018.csv\")\n",
        "d = pd.read_csv(\"/content/aibl_labdata_01-Jun-2018.csv\")\n",
        "e = pd.read_csv(\"/content/aibl_medhist_01-Jun-2018.csv\")\n",
        "f = pd.read_csv(\"/content/aibl_mmse_01-Jun-2018.csv\")\n",
        "g = pd.read_csv(\"/content/aibl_neurobat_01-Jun-2018.csv\")\n",
        "h = pd.read_csv(\"/content/aibl_pdxconv_01-Jun-2018.csv\")\n",
        "i= pd.read_csv(\"/content/aibl_ptdemog_01-Jun-2018.csv\")\n"
      ],
      "execution_count": 19,
      "outputs": []
    },
    {
      "cell_type": "code",
      "metadata": {
        "id": "-HvVgiqzsVkg"
      },
      "source": [
        "# list of dataframes  to merge\n",
        "data_frames = [h,g,c,d,f]\n",
        "\n",
        "data1 = reduce(lambda  left,right: pd.merge(left,right,on=['RID', 'SITEID', 'VISCODE'],\n",
        "                                            how='outer'), data_frames)"
      ],
      "execution_count": 20,
      "outputs": []
    },
    {
      "cell_type": "code",
      "metadata": {
        "id": "towsLHlCuFNl"
      },
      "source": [
        "# list of dataframes  to merge\n",
        "data_frames = [i,b,e]\n",
        "\n",
        "data2 = reduce(lambda  left,right: pd.merge(left,right,on=['RID', 'SITEID', 'VISCODE'],\n",
        "                                            how='outer'), data_frames)"
      ],
      "execution_count": 21,
      "outputs": []
    },
    {
      "cell_type": "code",
      "metadata": {
        "id": "4zw5oc2swPKN"
      },
      "source": [
        "data2.drop(['SITEID', 'VISCODE'],axis  =1,inplace  = True)"
      ],
      "execution_count": 22,
      "outputs": []
    },
    {
      "cell_type": "code",
      "metadata": {
        "id": "9YjdROqqsd2r"
      },
      "source": [
        "data  = pd.merge(data1,data2,on=['RID'])"
      ],
      "execution_count": 23,
      "outputs": []
    },
    {
      "cell_type": "code",
      "metadata": {
        "id": "idzWxNA1xH1z"
      },
      "source": [
        "data.drop([\"EXAMDATE_x\",\"EXAMDATE_y\"], axis  = 1,inplace  = True)"
      ],
      "execution_count": 24,
      "outputs": []
    },
    {
      "cell_type": "code",
      "metadata": {
        "id": "-ymGKLSwK7xZ"
      },
      "source": [
        "df = data.copy()"
      ],
      "execution_count": 25,
      "outputs": []
    },
    {
      "cell_type": "code",
      "metadata": {
        "colab": {
          "base_uri": "https://localhost:8080/"
        },
        "id": "a0TkDqqx2eme",
        "outputId": "cfe018cb-d503-4fba-e551-b4b0b4019316"
      },
      "source": [
        "df.shape"
      ],
      "execution_count": 26,
      "outputs": [
        {
          "output_type": "execute_result",
          "data": {
            "text/plain": [
              "(1688, 36)"
            ]
          },
          "metadata": {
            "tags": []
          },
          "execution_count": 26
        }
      ]
    },
    {
      "cell_type": "code",
      "metadata": {
        "colab": {
          "base_uri": "https://localhost:8080/"
        },
        "id": "BJSiIUPyMNwl",
        "outputId": "01d5e409-2b45-4063-9f86-3ae277d4a7d9"
      },
      "source": [
        "df.DXCURREN.unique()"
      ],
      "execution_count": 27,
      "outputs": [
        {
          "output_type": "execute_result",
          "data": {
            "text/plain": [
              "array([ 1,  3,  2, -4,  7])"
            ]
          },
          "metadata": {
            "tags": []
          },
          "execution_count": 27
        }
      ]
    },
    {
      "cell_type": "code",
      "metadata": {
        "colab": {
          "base_uri": "https://localhost:8080/"
        },
        "id": "quHiY8ZCslFT",
        "outputId": "50e8dabf-c44d-4ccc-fadf-fb5be169cbf0"
      },
      "source": [
        "df.DXCURREN.value_counts()"
      ],
      "execution_count": 28,
      "outputs": [
        {
          "output_type": "execute_result",
          "data": {
            "text/plain": [
              " 1    1231\n",
              " 2     246\n",
              " 3     204\n",
              "-4       4\n",
              " 7       3\n",
              "Name: DXCURREN, dtype: int64"
            ]
          },
          "metadata": {
            "tags": []
          },
          "execution_count": 28
        }
      ]
    },
    {
      "cell_type": "markdown",
      "metadata": {
        "id": "i8DR6TEbAJlB"
      },
      "source": [
        "## 204 people with AD\n",
        "## 246 people with Mild Cognitive Impairment (MCI) \n",
        "## 1231 solid people without intellectual hindrance(HC)."
      ]
    },
    {
      "cell_type": "markdown",
      "metadata": {
        "id": "3yOY4MNY_eUo"
      },
      "source": [
        "## DATA CLEANING AND PREPROCESSING"
      ]
    },
    {
      "cell_type": "code",
      "metadata": {
        "id": "wtswM-DCjk1q"
      },
      "source": [
        "df.PTDOB = df.PTDOB.astype(str).apply(lambda x : x.split(\"/\")[1])"
      ],
      "execution_count": 29,
      "outputs": []
    },
    {
      "cell_type": "code",
      "metadata": {
        "id": "73yrU2-hPgUW"
      },
      "source": [
        "df[\"age\"] = 2021 - df.PTDOB.astype(int)"
      ],
      "execution_count": 30,
      "outputs": []
    },
    {
      "cell_type": "code",
      "metadata": {
        "colab": {
          "base_uri": "https://localhost:8080/"
        },
        "id": "EY-ryXahxcZ3",
        "outputId": "8784d860-c7ca-4c54-d221-8ad94e9a399f"
      },
      "source": [
        "df.PTGENDER.unique(),df.DXCURREN.unique()"
      ],
      "execution_count": 31,
      "outputs": [
        {
          "output_type": "execute_result",
          "data": {
            "text/plain": [
              "(array([1, 2]), array([ 1,  3,  2, -4,  7]))"
            ]
          },
          "metadata": {
            "tags": []
          },
          "execution_count": 31
        }
      ]
    },
    {
      "cell_type": "code",
      "metadata": {
        "id": "IOZjeIWD4iVT"
      },
      "source": [
        "df = df[df.DXCURREN != -4]\n",
        "df = df[df.DXCURREN != 7]"
      ],
      "execution_count": 32,
      "outputs": []
    },
    {
      "cell_type": "code",
      "metadata": {
        "id": "N2jakdWP8d4j"
      },
      "source": [
        "def target(x):\n",
        "  if x == 1:\n",
        "    return \"HC\"\n",
        "  else:\n",
        "    return \"NON HC\""
      ],
      "execution_count": 33,
      "outputs": []
    },
    {
      "cell_type": "code",
      "metadata": {
        "id": "fIl_v_hm8eML"
      },
      "source": [
        "df.DXCURREN = df.DXCURREN.apply(target)"
      ],
      "execution_count": 34,
      "outputs": []
    },
    {
      "cell_type": "code",
      "metadata": {
        "colab": {
          "base_uri": "https://localhost:8080/",
          "height": 335
        },
        "id": "7RBb5Neq3SFm",
        "outputId": "f77661c1-c7ad-4194-9c5f-23e8c7d09b0e"
      },
      "source": [
        "df['DXCURREN'].value_counts(normalize  = True).plot.bar(title='DXCURREN')"
      ],
      "execution_count": 35,
      "outputs": [
        {
          "output_type": "execute_result",
          "data": {
            "text/plain": [
              "<matplotlib.axes._subplots.AxesSubplot at 0x7f4a4efca150>"
            ]
          },
          "metadata": {
            "tags": []
          },
          "execution_count": 35
        },
        {
          "output_type": "display_data",
          "data": {
            "image/png": "[encoded data removed]",
            "text/plain": [
              "<Figure size 432x288 with 1 Axes>"
            ]
          },
          "metadata": {
            "tags": []
          }
        }
      ]
    },
    {
      "cell_type": "markdown",
      "metadata": {
        "id": "s67xH_9-CBg7"
      },
      "source": [
        "The  plot  above shows that there is class bias in the provided data-set:  73% of the individuals were in the healthy control 27% were in the non healthy control group."
      ]
    },
    {
      "cell_type": "code",
      "metadata": {
        "colab": {
          "base_uri": "https://localhost:8080/",
          "height": 317
        },
        "id": "lDijEAl40xd7",
        "outputId": "b4ff8798-56bf-466d-ee0d-4a47d5d825ee"
      },
      "source": [
        "df.describe()"
      ],
      "execution_count": 36,
      "outputs": [
        {
          "output_type": "execute_result",
          "data": {
            "text/html": [
              "<div>\n",
              "<style scoped>\n",
              "    .dataframe tbody tr th:only-of-type {\n",
              "        vertical-align: middle;\n",
              "    }\n",
              "\n",
              "    .dataframe tbody tr th {\n",
              "        vertical-align: top;\n",
              "    }\n",
              "\n",
              "    .dataframe thead th {\n",
              "        text-align: right;\n",
              "    }\n",
              "</style>\n",
              "<table border=\"1\" class=\"dataframe\">\n",
              "  <thead>\n",
              "    <tr style=\"text-align: right;\">\n",
              "      <th></th>\n",
              "      <th>RID</th>\n",
              "      <th>SITEID</th>\n",
              "      <th>LIMMTOTAL</th>\n",
              "      <th>LDELTOTAL</th>\n",
              "      <th>CDGLOBAL</th>\n",
              "      <th>AXT117</th>\n",
              "      <th>BAT126</th>\n",
              "      <th>HMT3</th>\n",
              "      <th>HMT7</th>\n",
              "      <th>HMT13</th>\n",
              "      <th>HMT40</th>\n",
              "      <th>HMT100</th>\n",
              "      <th>HMT102</th>\n",
              "      <th>RCT6</th>\n",
              "      <th>RCT11</th>\n",
              "      <th>RCT20</th>\n",
              "      <th>RCT392</th>\n",
              "      <th>MMSCORE</th>\n",
              "      <th>PTGENDER</th>\n",
              "      <th>APGEN1</th>\n",
              "      <th>APGEN2</th>\n",
              "      <th>MHPSYCH</th>\n",
              "      <th>MH2NEURL</th>\n",
              "      <th>MH4CARD</th>\n",
              "      <th>MH6HEPAT</th>\n",
              "      <th>MH8MUSCL</th>\n",
              "      <th>MH9ENDO</th>\n",
              "      <th>MH10GAST</th>\n",
              "      <th>MH12RENA</th>\n",
              "      <th>MH16SMOK</th>\n",
              "      <th>MH17MALI</th>\n",
              "      <th>age</th>\n",
              "    </tr>\n",
              "  </thead>\n",
              "  <tbody>\n",
              "    <tr>\n",
              "      <th>count</th>\n",
              "      <td>1681.000000</td>\n",
              "      <td>1681.000000</td>\n",
              "      <td>1681.000000</td>\n",
              "      <td>1681.000000</td>\n",
              "      <td>1681.000000</td>\n",
              "      <td>1681.000000</td>\n",
              "      <td>1681.000000</td>\n",
              "      <td>1681.000000</td>\n",
              "      <td>1681.000000</td>\n",
              "      <td>1681.000000</td>\n",
              "      <td>1681.000000</td>\n",
              "      <td>1681.000000</td>\n",
              "      <td>1681.000000</td>\n",
              "      <td>1681.000000</td>\n",
              "      <td>1681.000000</td>\n",
              "      <td>1681.000000</td>\n",
              "      <td>1681.000000</td>\n",
              "      <td>1681.000000</td>\n",
              "      <td>1681.000000</td>\n",
              "      <td>1681.000000</td>\n",
              "      <td>1681.000000</td>\n",
              "      <td>1681.000000</td>\n",
              "      <td>1681.00000</td>\n",
              "      <td>1681.000000</td>\n",
              "      <td>1681.000000</td>\n",
              "      <td>1681.000000</td>\n",
              "      <td>1681.000000</td>\n",
              "      <td>1681.000000</td>\n",
              "      <td>1681.000000</td>\n",
              "      <td>1681.000000</td>\n",
              "      <td>1681.000000</td>\n",
              "      <td>1681.000000</td>\n",
              "    </tr>\n",
              "    <tr>\n",
              "      <th>mean</th>\n",
              "      <td>652.140988</td>\n",
              "      <td>1.320642</td>\n",
              "      <td>10.872100</td>\n",
              "      <td>9.270672</td>\n",
              "      <td>0.193337</td>\n",
              "      <td>1.592319</td>\n",
              "      <td>437.932905</td>\n",
              "      <td>4.078388</td>\n",
              "      <td>5.413742</td>\n",
              "      <td>216.522903</td>\n",
              "      <td>13.146877</td>\n",
              "      <td>29.465318</td>\n",
              "      <td>32.111719</td>\n",
              "      <td>35.664242</td>\n",
              "      <td>87.462264</td>\n",
              "      <td>196.138340</td>\n",
              "      <td>0.628958</td>\n",
              "      <td>27.443783</td>\n",
              "      <td>1.519929</td>\n",
              "      <td>3.245687</td>\n",
              "      <td>2.801309</td>\n",
              "      <td>0.116597</td>\n",
              "      <td>0.05235</td>\n",
              "      <td>0.330161</td>\n",
              "      <td>-0.038667</td>\n",
              "      <td>0.403926</td>\n",
              "      <td>0.063058</td>\n",
              "      <td>0.190363</td>\n",
              "      <td>-0.051755</td>\n",
              "      <td>-0.851279</td>\n",
              "      <td>0.083284</td>\n",
              "      <td>84.289709</td>\n",
              "    </tr>\n",
              "    <tr>\n",
              "      <th>std</th>\n",
              "      <td>481.894041</td>\n",
              "      <td>0.466862</td>\n",
              "      <td>5.032366</td>\n",
              "      <td>5.545260</td>\n",
              "      <td>0.474445</td>\n",
              "      <td>1.836253</td>\n",
              "      <td>264.218630</td>\n",
              "      <td>1.909150</td>\n",
              "      <td>2.689930</td>\n",
              "      <td>79.722291</td>\n",
              "      <td>4.126900</td>\n",
              "      <td>7.873090</td>\n",
              "      <td>8.359293</td>\n",
              "      <td>13.542494</td>\n",
              "      <td>25.595099</td>\n",
              "      <td>61.898537</td>\n",
              "      <td>1.066813</td>\n",
              "      <td>3.908853</td>\n",
              "      <td>0.499751</td>\n",
              "      <td>1.044125</td>\n",
              "      <td>0.975179</td>\n",
              "      <td>0.828491</td>\n",
              "      <td>0.64706</td>\n",
              "      <td>0.820772</td>\n",
              "      <td>0.593861</td>\n",
              "      <td>0.818220</td>\n",
              "      <td>0.731647</td>\n",
              "      <td>0.801444</td>\n",
              "      <td>0.685087</td>\n",
              "      <td>2.088919</td>\n",
              "      <td>0.685018</td>\n",
              "      <td>7.094008</td>\n",
              "    </tr>\n",
              "    <tr>\n",
              "      <th>min</th>\n",
              "      <td>2.000000</td>\n",
              "      <td>1.000000</td>\n",
              "      <td>-4.000000</td>\n",
              "      <td>-4.000000</td>\n",
              "      <td>-4.000000</td>\n",
              "      <td>-4.000000</td>\n",
              "      <td>-4.000000</td>\n",
              "      <td>-4.000000</td>\n",
              "      <td>-4.000000</td>\n",
              "      <td>-4.000000</td>\n",
              "      <td>-4.000000</td>\n",
              "      <td>-4.000000</td>\n",
              "      <td>-4.000000</td>\n",
              "      <td>-4.000000</td>\n",
              "      <td>-4.000000</td>\n",
              "      <td>-4.000000</td>\n",
              "      <td>-4.000000</td>\n",
              "      <td>-4.000000</td>\n",
              "      <td>1.000000</td>\n",
              "      <td>-4.000000</td>\n",
              "      <td>-4.000000</td>\n",
              "      <td>-4.000000</td>\n",
              "      <td>-4.00000</td>\n",
              "      <td>-4.000000</td>\n",
              "      <td>-4.000000</td>\n",
              "      <td>-4.000000</td>\n",
              "      <td>-4.000000</td>\n",
              "      <td>-4.000000</td>\n",
              "      <td>-4.000000</td>\n",
              "      <td>-4.000000</td>\n",
              "      <td>-4.000000</td>\n",
              "      <td>64.000000</td>\n",
              "    </tr>\n",
              "    <tr>\n",
              "      <th>25%</th>\n",
              "      <td>232.000000</td>\n",
              "      <td>1.000000</td>\n",
              "      <td>8.000000</td>\n",
              "      <td>5.000000</td>\n",
              "      <td>0.000000</td>\n",
              "      <td>1.010000</td>\n",
              "      <td>298.181000</td>\n",
              "      <td>4.180000</td>\n",
              "      <td>4.800000</td>\n",
              "      <td>183.000000</td>\n",
              "      <td>13.100000</td>\n",
              "      <td>30.200000</td>\n",
              "      <td>33.600000</td>\n",
              "      <td>30.035000</td>\n",
              "      <td>82.874000</td>\n",
              "      <td>173.993000</td>\n",
              "      <td>0.701000</td>\n",
              "      <td>27.000000</td>\n",
              "      <td>1.000000</td>\n",
              "      <td>3.000000</td>\n",
              "      <td>3.000000</td>\n",
              "      <td>0.000000</td>\n",
              "      <td>0.00000</td>\n",
              "      <td>0.000000</td>\n",
              "      <td>0.000000</td>\n",
              "      <td>0.000000</td>\n",
              "      <td>0.000000</td>\n",
              "      <td>0.000000</td>\n",
              "      <td>0.000000</td>\n",
              "      <td>-4.000000</td>\n",
              "      <td>0.000000</td>\n",
              "      <td>79.000000</td>\n",
              "    </tr>\n",
              "    <tr>\n",
              "      <th>50%</th>\n",
              "      <td>572.000000</td>\n",
              "      <td>1.000000</td>\n",
              "      <td>11.000000</td>\n",
              "      <td>10.000000</td>\n",
              "      <td>0.000000</td>\n",
              "      <td>1.600000</td>\n",
              "      <td>399.834000</td>\n",
              "      <td>4.470000</td>\n",
              "      <td>5.600000</td>\n",
              "      <td>220.000000</td>\n",
              "      <td>13.900000</td>\n",
              "      <td>31.200000</td>\n",
              "      <td>34.000000</td>\n",
              "      <td>35.441000</td>\n",
              "      <td>88.278000</td>\n",
              "      <td>201.058000</td>\n",
              "      <td>0.826000</td>\n",
              "      <td>29.000000</td>\n",
              "      <td>2.000000</td>\n",
              "      <td>3.000000</td>\n",
              "      <td>3.000000</td>\n",
              "      <td>0.000000</td>\n",
              "      <td>0.00000</td>\n",
              "      <td>0.000000</td>\n",
              "      <td>0.000000</td>\n",
              "      <td>0.000000</td>\n",
              "      <td>0.000000</td>\n",
              "      <td>0.000000</td>\n",
              "      <td>0.000000</td>\n",
              "      <td>0.000000</td>\n",
              "      <td>0.000000</td>\n",
              "      <td>84.000000</td>\n",
              "    </tr>\n",
              "    <tr>\n",
              "      <th>75%</th>\n",
              "      <td>1024.000000</td>\n",
              "      <td>2.000000</td>\n",
              "      <td>14.000000</td>\n",
              "      <td>13.000000</td>\n",
              "      <td>0.500000</td>\n",
              "      <td>2.400000</td>\n",
              "      <td>528.594000</td>\n",
              "      <td>4.760000</td>\n",
              "      <td>6.600000</td>\n",
              "      <td>260.000000</td>\n",
              "      <td>14.800000</td>\n",
              "      <td>32.100000</td>\n",
              "      <td>34.400000</td>\n",
              "      <td>42.049000</td>\n",
              "      <td>97.286000</td>\n",
              "      <td>231.990000</td>\n",
              "      <td>0.973000</td>\n",
              "      <td>30.000000</td>\n",
              "      <td>2.000000</td>\n",
              "      <td>4.000000</td>\n",
              "      <td>3.000000</td>\n",
              "      <td>0.000000</td>\n",
              "      <td>0.00000</td>\n",
              "      <td>1.000000</td>\n",
              "      <td>0.000000</td>\n",
              "      <td>1.000000</td>\n",
              "      <td>0.000000</td>\n",
              "      <td>1.000000</td>\n",
              "      <td>0.000000</td>\n",
              "      <td>1.000000</td>\n",
              "      <td>0.000000</td>\n",
              "      <td>89.000000</td>\n",
              "    </tr>\n",
              "    <tr>\n",
              "      <th>max</th>\n",
              "      <td>1639.000000</td>\n",
              "      <td>2.000000</td>\n",
              "      <td>24.000000</td>\n",
              "      <td>23.000000</td>\n",
              "      <td>3.000000</td>\n",
              "      <td>12.660000</td>\n",
              "      <td>2033.056000</td>\n",
              "      <td>6.060000</td>\n",
              "      <td>22.100000</td>\n",
              "      <td>875.000000</td>\n",
              "      <td>18.100000</td>\n",
              "      <td>39.000000</td>\n",
              "      <td>36.000000</td>\n",
              "      <td>115.334000</td>\n",
              "      <td>234.208000</td>\n",
              "      <td>367.317000</td>\n",
              "      <td>2.093000</td>\n",
              "      <td>30.000000</td>\n",
              "      <td>2.000000</td>\n",
              "      <td>4.000000</td>\n",
              "      <td>4.000000</td>\n",
              "      <td>1.000000</td>\n",
              "      <td>1.00000</td>\n",
              "      <td>1.000000</td>\n",
              "      <td>1.000000</td>\n",
              "      <td>1.000000</td>\n",
              "      <td>1.000000</td>\n",
              "      <td>1.000000</td>\n",
              "      <td>1.000000</td>\n",
              "      <td>1.000000</td>\n",
              "      <td>1.000000</td>\n",
              "      <td>106.000000</td>\n",
              "    </tr>\n",
              "  </tbody>\n",
              "</table>\n",
              "</div>"
            ],
            "text/plain": [
              "               RID       SITEID  ...     MH17MALI          age\n",
              "count  1681.000000  1681.000000  ...  1681.000000  1681.000000\n",
              "mean    652.140988     1.320642  ...     0.083284    84.289709\n",
              "std     481.894041     0.466862  ...     0.685018     7.094008\n",
              "min       2.000000     1.000000  ...    -4.000000    64.000000\n",
              "25%     232.000000     1.000000  ...     0.000000    79.000000\n",
              "50%     572.000000     1.000000  ...     0.000000    84.000000\n",
              "75%    1024.000000     2.000000  ...     0.000000    89.000000\n",
              "max    1639.000000     2.000000  ...     1.000000   106.000000\n",
              "\n",
              "[8 rows x 32 columns]"
            ]
          },
          "metadata": {
            "tags": []
          },
          "execution_count": 36
        }
      ]
    },
    {
      "cell_type": "code",
      "metadata": {
        "colab": {
          "base_uri": "https://localhost:8080/"
        },
        "id": "Pq0ShkIg1NvV",
        "outputId": "fb5c795f-6ec2-4d1c-d1d0-70416de9fade"
      },
      "source": [
        "df.columns"
      ],
      "execution_count": 37,
      "outputs": [
        {
          "output_type": "execute_result",
          "data": {
            "text/plain": [
              "Index(['RID', 'SITEID', 'VISCODE', 'DXCURREN', 'LIMMTOTAL', 'LDELTOTAL',\n",
              "       'CDGLOBAL', 'AXT117', 'BAT126', 'HMT3', 'HMT7', 'HMT13', 'HMT40',\n",
              "       'HMT100', 'HMT102', 'RCT6', 'RCT11', 'RCT20', 'RCT392', 'EXAMDATE',\n",
              "       'MMSCORE', 'PTGENDER', 'PTDOB', 'APTESTDT', 'APGEN1', 'APGEN2',\n",
              "       'MHPSYCH', 'MH2NEURL', 'MH4CARD', 'MH6HEPAT', 'MH8MUSCL', 'MH9ENDO',\n",
              "       'MH10GAST', 'MH12RENA', 'MH16SMOK', 'MH17MALI', 'age'],\n",
              "      dtype='object')"
            ]
          },
          "metadata": {
            "tags": []
          },
          "execution_count": 37
        }
      ]
    },
    {
      "cell_type": "code",
      "metadata": {
        "colab": {
          "base_uri": "https://localhost:8080/",
          "height": 303
        },
        "id": "lMBiORt869ZR",
        "outputId": "01edc421-ce99-4e19-d24d-9f125adc39ac"
      },
      "source": [
        "sns.distplot(df[\"AXT117\"],kde =False,color  = \"black\" ,bins  =10)"
      ],
      "execution_count": 38,
      "outputs": [
        {
          "output_type": "execute_result",
          "data": {
            "text/plain": [
              "<matplotlib.axes._subplots.AxesSubplot at 0x7f4a544ecb10>"
            ]
          },
          "metadata": {
            "tags": []
          },
          "execution_count": 38
        },
        {
          "output_type": "display_data",
          "data": {
            "image/png": "[encoded data removed]",
            "text/plain": [
              "<Figure size 432x288 with 1 Axes>"
            ]
          },
          "metadata": {
            "tags": []
          }
        }
      ]
    },
    {
      "cell_type": "code",
      "metadata": {
        "colab": {
          "base_uri": "https://localhost:8080/",
          "height": 304
        },
        "id": "NXi-9ejX1JcN",
        "outputId": "fbdf68ab-21c9-4292-97f2-17ee5b36af90"
      },
      "source": [
        "sns.distplot(df[\"MMSCORE\"],kde =False,color  = \"black\" ,bins  =10)"
      ],
      "execution_count": 39,
      "outputs": [
        {
          "output_type": "execute_result",
          "data": {
            "text/plain": [
              "<matplotlib.axes._subplots.AxesSubplot at 0x7f4a4ef29450>"
            ]
          },
          "metadata": {
            "tags": []
          },
          "execution_count": 39
        },
        {
          "output_type": "display_data",
          "data": {
            "image/png": "[encoded data removed]",
            "text/plain": [
              "<Figure size 432x288 with 1 Axes>"
            ]
          },
          "metadata": {
            "tags": []
          }
        }
      ]
    },
    {
      "cell_type": "code",
      "metadata": {
        "colab": {
          "base_uri": "https://localhost:8080/",
          "height": 356
        },
        "id": "3oE1fQYI1VZT",
        "outputId": "c74533f1-c656-4d39-91a7-68266eb94051"
      },
      "source": [
        "sns.set(rc = {\"figure.figsize\" :(5,5)})\n",
        "sns.swarmplot(x = df[\"MMSCORE\"])"
      ],
      "execution_count": 40,
      "outputs": [
        {
          "output_type": "execute_result",
          "data": {
            "text/plain": [
              "<matplotlib.axes._subplots.AxesSubplot at 0x7f4a4e98f590>"
            ]
          },
          "metadata": {
            "tags": []
          },
          "execution_count": 40
        },
        {
          "output_type": "display_data",
          "data": {
            "image/png": "[encoded data removed]",
            "text/plain": [
              "<Figure size 360x360 with 1 Axes>"
            ]
          },
          "metadata": {
            "tags": []
          }
        }
      ]
    },
    {
      "cell_type": "code",
      "metadata": {
        "colab": {
          "base_uri": "https://localhost:8080/",
          "height": 394
        },
        "id": "C9mIZyf-1cty",
        "outputId": "1b7622a6-c919-45f5-b6d6-ce0bd326254b"
      },
      "source": [
        "plt.figure(figsize=(15,6))\n",
        "sns.countplot(x='age',data = df, hue = 'DXCURREN',palette='husl')\n",
        "plt.show()"
      ],
      "execution_count": 41,
      "outputs": [
        {
          "output_type": "display_data",
          "data": {
            "image/png": "[encoded data removed]",
            "text/plain": [
              "<Figure size 1080x432 with 1 Axes>"
            ]
          },
          "metadata": {
            "tags": []
          }
        }
      ]
    },
    {
      "cell_type": "code",
      "metadata": {
        "colab": {
          "base_uri": "https://localhost:8080/"
        },
        "id": "NgmhsJaC2r0Z",
        "outputId": "c5be09cb-8d04-4f3f-b9e6-e1c07734296b"
      },
      "source": [
        "df.DXCURREN.value_counts()"
      ],
      "execution_count": 42,
      "outputs": [
        {
          "output_type": "execute_result",
          "data": {
            "text/plain": [
              "HC        1231\n",
              "NON HC     450\n",
              "Name: DXCURREN, dtype: int64"
            ]
          },
          "metadata": {
            "tags": []
          },
          "execution_count": 42
        }
      ]
    },
    {
      "cell_type": "code",
      "metadata": {
        "colab": {
          "base_uri": "https://localhost:8080/"
        },
        "id": "p8Blj4nE0uXD",
        "outputId": "6ba8b466-259d-449a-d92c-0c885e148f2c"
      },
      "source": [
        "df.columns"
      ],
      "execution_count": 43,
      "outputs": [
        {
          "output_type": "execute_result",
          "data": {
            "text/plain": [
              "Index(['RID', 'SITEID', 'VISCODE', 'DXCURREN', 'LIMMTOTAL', 'LDELTOTAL',\n",
              "       'CDGLOBAL', 'AXT117', 'BAT126', 'HMT3', 'HMT7', 'HMT13', 'HMT40',\n",
              "       'HMT100', 'HMT102', 'RCT6', 'RCT11', 'RCT20', 'RCT392', 'EXAMDATE',\n",
              "       'MMSCORE', 'PTGENDER', 'PTDOB', 'APTESTDT', 'APGEN1', 'APGEN2',\n",
              "       'MHPSYCH', 'MH2NEURL', 'MH4CARD', 'MH6HEPAT', 'MH8MUSCL', 'MH9ENDO',\n",
              "       'MH10GAST', 'MH12RENA', 'MH16SMOK', 'MH17MALI', 'age'],\n",
              "      dtype='object')"
            ]
          },
          "metadata": {
            "tags": []
          },
          "execution_count": 43
        }
      ]
    },
    {
      "cell_type": "code",
      "metadata": {
        "id": "qONPmH6S95-w"
      },
      "source": [
        "def target(x):\n",
        "  if x == \"HC\":\n",
        "    return 0\n",
        "  else:\n",
        "    return 1\n",
        "df.DXCURREN = df.DXCURREN.apply(target)"
      ],
      "execution_count": 44,
      "outputs": []
    },
    {
      "cell_type": "code",
      "metadata": {
        "colab": {
          "base_uri": "https://localhost:8080/"
        },
        "id": "sdJrLx0F-VV3",
        "outputId": "ffa09741-9da5-4232-9b0e-6410fcfaf4d9"
      },
      "source": [
        "df.DXCURREN.unique()"
      ],
      "execution_count": 45,
      "outputs": [
        {
          "output_type": "execute_result",
          "data": {
            "text/plain": [
              "array([0, 1])"
            ]
          },
          "metadata": {
            "tags": []
          },
          "execution_count": 45
        }
      ]
    },
    {
      "cell_type": "code",
      "metadata": {
        "id": "UTXXUgCb07VA"
      },
      "source": [
        "# bar drawing function\n",
        "def bar_chart(feature):\n",
        "    Demented = df[df['DXCURREN']==0][feature].value_counts()\n",
        "    Nondemented = df[df['DXCURREN']==1][feature].value_counts()\n",
        "    df_bar = pd.DataFrame([Demented,Nondemented])\n",
        "    df_bar.index = ['HC','NON HC']\n",
        "    df_bar.plot(kind='bar',stacked=True, figsize=(8,5))"
      ],
      "execution_count": 46,
      "outputs": []
    },
    {
      "cell_type": "code",
      "metadata": {
        "colab": {
          "base_uri": "https://localhost:8080/",
          "height": 407
        },
        "id": "nf7wfKRD07d7",
        "outputId": "4e9a0a2b-5fe9-4328-9351-500296ad8487"
      },
      "source": [
        "# Gender  and  Group ( Femal=1, Male=2)\n",
        "bar_chart('PTGENDER')\n",
        "plt.xlabel('Group')\n",
        "plt.ylabel('Number of patients')\n",
        "plt.legend()\n",
        "plt.title('Gender and az rate')"
      ],
      "execution_count": 47,
      "outputs": [
        {
          "output_type": "execute_result",
          "data": {
            "text/plain": [
              "Text(0.5, 1.0, 'Gender and az rate')"
            ]
          },
          "metadata": {
            "tags": []
          },
          "execution_count": 47
        },
        {
          "output_type": "display_data",
          "data": {
            "image/png": "[encoded data removed]",
            "text/plain": [
              "<Figure size 576x360 with 1 Axes>"
            ]
          },
          "metadata": {
            "tags": []
          }
        }
      ]
    },
    {
      "cell_type": "code",
      "metadata": {
        "colab": {
          "base_uri": "https://localhost:8080/",
          "height": 238
        },
        "id": "Hg2gH0105zb4",
        "outputId": "605d364f-5c3d-421f-b81b-896d35c77ed1"
      },
      "source": [
        "facet= sns.FacetGrid(df,hue=\"DXCURREN\", aspect=3)\n",
        "facet.map(sns.kdeplot,'BAT126',shade= True)\n",
        "facet.set(xlim=(0, df['BAT126'].max()))\n",
        "facet.add_legend()\n",
        "plt.xlim(15.30)"
      ],
      "execution_count": 48,
      "outputs": [
        {
          "output_type": "execute_result",
          "data": {
            "text/plain": [
              "(15.3, 2033.056)"
            ]
          },
          "metadata": {
            "tags": []
          },
          "execution_count": 48
        },
        {
          "output_type": "display_data",
          "data": {
            "image/png": "[encoded data removed]",
            "text/plain": [
              "<Figure size 723.3x216 with 1 Axes>"
            ]
          },
          "metadata": {
            "tags": []
          }
        }
      ]
    },
    {
      "cell_type": "code",
      "metadata": {
        "colab": {
          "base_uri": "https://localhost:8080/",
          "height": 238
        },
        "id": "YW373_GT6Mxz",
        "outputId": "f789d015-9f6a-45a2-e971-127d65b6ca3a"
      },
      "source": [
        "facet= sns.FacetGrid(df,hue=\"DXCURREN\", aspect=3)\n",
        "facet.map(sns.kdeplot,'RCT20',shade= True)\n",
        "facet.set(xlim=(0, df['RCT20'].max()))\n",
        "facet.add_legend()\n",
        "plt.xlim(15.30)"
      ],
      "execution_count": 49,
      "outputs": [
        {
          "output_type": "execute_result",
          "data": {
            "text/plain": [
              "(15.3, 367.31699999999995)"
            ]
          },
          "metadata": {
            "tags": []
          },
          "execution_count": 49
        },
        {
          "output_type": "display_data",
          "data": {
            "image/png": "[encoded data removed]",
            "text/plain": [
              "<Figure size 723.3x216 with 1 Axes>"
            ]
          },
          "metadata": {
            "tags": []
          }
        }
      ]
    },
    {
      "cell_type": "code",
      "metadata": {
        "id": "utQEXuDU6CdD"
      },
      "source": [
        ""
      ],
      "execution_count": 49,
      "outputs": []
    },
    {
      "cell_type": "code",
      "metadata": {
        "colab": {
          "base_uri": "https://localhost:8080/",
          "height": 238
        },
        "id": "hKBQ0s7vy_gv",
        "outputId": "60ad7843-8dd7-4931-bf24-a15e79debfa2"
      },
      "source": [
        "#MMSE : Mini Mental State Examination\n",
        "facet= sns.FacetGrid(df,hue=\"DXCURREN\", aspect=3)\n",
        "facet.map(sns.kdeplot,'MMSCORE',shade= True)\n",
        "facet.set(xlim=(0, df['MMSCORE'].max()))\n",
        "facet.add_legend()\n",
        "plt.xlim(15.30)"
      ],
      "execution_count": 50,
      "outputs": [
        {
          "output_type": "execute_result",
          "data": {
            "text/plain": [
              "(15.3, 30.0)"
            ]
          },
          "metadata": {
            "tags": []
          },
          "execution_count": 50
        },
        {
          "output_type": "display_data",
          "data": {
            "image/png": "[encoded data removed]",
            "text/plain": [
              "<Figure size 723.3x216 with 1 Axes>"
            ]
          },
          "metadata": {
            "tags": []
          }
        }
      ]
    },
    {
      "cell_type": "markdown",
      "metadata": {
        "id": "v46rVVJSCKsm"
      },
      "source": [
        "# The chart shows HEALTHY CONTROL group got much more higher MMSE scores than AD AND MCI group."
      ]
    },
    {
      "cell_type": "code",
      "metadata": {
        "colab": {
          "base_uri": "https://localhost:8080/",
          "height": 238
        },
        "id": "nyrx7oME70IF",
        "outputId": "f1db23d5-40b5-46bb-a052-599fbe971c45"
      },
      "source": [
        "\n",
        "facet= sns.FacetGrid(df,hue=\"DXCURREN\", aspect=3)\n",
        "facet.map(sns.kdeplot,'age',shade= True)\n",
        "facet.set(xlim=(0, df['age'].max()))\n",
        "facet.add_legend()\n",
        "plt.xlim(50,100)"
      ],
      "execution_count": 51,
      "outputs": [
        {
          "output_type": "execute_result",
          "data": {
            "text/plain": [
              "(50.0, 100.0)"
            ]
          },
          "metadata": {
            "tags": []
          },
          "execution_count": 51
        },
        {
          "output_type": "display_data",
          "data": {
            "image/png": "[encoded data removed]",
            "text/plain": [
              "<Figure size 723.3x216 with 1 Axes>"
            ]
          },
          "metadata": {
            "tags": []
          }
        }
      ]
    },
    {
      "cell_type": "markdown",
      "metadata": {
        "id": "N0N9u37_CQN5"
      },
      "source": [
        "# There is a higher concentration of 90 -100 years old in the mci and AD \n",
        "# patient group than those in the nondemented patients. We guess patients \n",
        "# who suffered from that kind of disease has lower survival\n",
        "#  rate so that there are a few of 90 years old."
      ]
    },
    {
      "cell_type": "code",
      "metadata": {
        "colab": {
          "base_uri": "https://localhost:8080/",
          "height": 282
        },
        "id": "Rm0Y2JTN_7u6",
        "outputId": "9ed8d0c8-988e-41b2-b36b-d05164ad9c4b"
      },
      "source": [
        "a = df[df.MH16SMOK != -4]\n",
        "Rh=pd.crosstab(a['MH16SMOK'],a['DXCURREN'])\n",
        "Rh.div(Rh.sum(1).astype(float), axis=0).plot(kind=\"bar\",stacked=True,figsize=(4,4))\n",
        "plt.show()"
      ],
      "execution_count": 52,
      "outputs": [
        {
          "output_type": "display_data",
          "data": {
            "image/png": "[encoded data removed]",
            "text/plain": [
              "<Figure size 288x288 with 1 Axes>"
            ]
          },
          "metadata": {
            "tags": []
          }
        }
      ]
    },
    {
      "cell_type": "markdown",
      "metadata": {
        "id": "D02fassUCT_L"
      },
      "source": [
        "# this chart shows that smoking doesnt really have an effect on our target variable"
      ]
    },
    {
      "cell_type": "code",
      "metadata": {
        "colab": {
          "base_uri": "https://localhost:8080/",
          "height": 282
        },
        "id": "wTE3SWaSCG7e",
        "outputId": "75f14285-b4a5-41f2-c0b6-dabb6eed8e3e"
      },
      "source": [
        "a = df[df.MHPSYCH != -4]\n",
        "Rh=pd.crosstab(a['MHPSYCH'],a['DXCURREN'])\n",
        "Rh.div(Rh.sum(1).astype(float), axis=0).plot(kind=\"bar\",stacked=True,figsize=(4,4))\n",
        "plt.show()"
      ],
      "execution_count": 53,
      "outputs": [
        {
          "output_type": "display_data",
          "data": {
            "image/png": "[encoded data removed]",
            "text/plain": [
              "<Figure size 288x288 with 1 Axes>"
            ]
          },
          "metadata": {
            "tags": []
          }
        }
      ]
    },
    {
      "cell_type": "code",
      "metadata": {
        "colab": {
          "base_uri": "https://localhost:8080/",
          "height": 282
        },
        "id": "evy8b2ABCoF5",
        "outputId": "c4689ea5-6c3d-4e3a-803d-6b4e833d95ea"
      },
      "source": [
        "a = df[df.MH17MALI != -4]\n",
        "Rh=pd.crosstab(a['MH17MALI'],a['DXCURREN'])\n",
        "Rh.div(Rh.sum(1).astype(float), axis=0).plot(kind=\"bar\",stacked=True,figsize=(4,4))\n",
        "plt.show()"
      ],
      "execution_count": 54,
      "outputs": [
        {
          "output_type": "display_data",
          "data": {
            "image/png": "[encoded data removed]",
            "text/plain": [
              "<Figure size 288x288 with 1 Axes>"
            ]
          },
          "metadata": {
            "tags": []
          }
        }
      ]
    },
    {
      "cell_type": "code",
      "metadata": {
        "colab": {
          "base_uri": "https://localhost:8080/",
          "height": 238
        },
        "id": "xOoPUZ1XD4BF",
        "outputId": "a576c88c-8527-4359-8dd1-51e754503db4"
      },
      "source": [
        "#MMSE : Mini Mental State Examination\n",
        "facet= sns.FacetGrid(df,hue=\"DXCURREN\", aspect=3)\n",
        "facet.map(sns.kdeplot,'LIMMTOTAL',shade= True)\n",
        "facet.set(xlim=(0, df['LIMMTOTAL'].max()))\n",
        "facet.add_legend()\n",
        "plt.xlim(15.30)"
      ],
      "execution_count": 55,
      "outputs": [
        {
          "output_type": "execute_result",
          "data": {
            "text/plain": [
              "(15.3, 24.0)"
            ]
          },
          "metadata": {
            "tags": []
          },
          "execution_count": 55
        },
        {
          "output_type": "display_data",
          "data": {
            "image/png": "[encoded data removed]",
            "text/plain": [
              "<Figure size 723.3x216 with 1 Axes>"
            ]
          },
          "metadata": {
            "tags": []
          }
        }
      ]
    },
    {
      "cell_type": "code",
      "metadata": {
        "colab": {
          "base_uri": "https://localhost:8080/",
          "height": 238
        },
        "id": "qyfH6MqGFHPK",
        "outputId": "969c7718-ed77-4f6e-dc93-99ecf6912f6d"
      },
      "source": [
        "#MMSE : LDELTOTAL delayed recall\n",
        "facet= sns.FacetGrid(df,hue=\"DXCURREN\", aspect=3)\n",
        "facet.map(sns.kdeplot,'LDELTOTAL',shade= True)\n",
        "facet.set(xlim=(0, df['LDELTOTAL'].max()))\n",
        "facet.add_legend()\n",
        "plt.xlim(15.30)"
      ],
      "execution_count": 56,
      "outputs": [
        {
          "output_type": "execute_result",
          "data": {
            "text/plain": [
              "(15.3, 23.0)"
            ]
          },
          "metadata": {
            "tags": []
          },
          "execution_count": 56
        },
        {
          "output_type": "display_data",
          "data": {
            "image/png": "[encoded data removed]",
            "text/plain": [
              "<Figure size 723.3x216 with 1 Axes>"
            ]
          },
          "metadata": {
            "tags": []
          }
        }
      ]
    },
    {
      "cell_type": "markdown",
      "metadata": {
        "id": "16W6LtPsCZl5"
      },
      "source": [
        "# the plot above tells that patients who are of good health have a good \n",
        "# immediate and delayed  recall score than for the mci and ad patients"
      ]
    },
    {
      "cell_type": "code",
      "metadata": {
        "colab": {
          "base_uri": "https://localhost:8080/",
          "height": 238
        },
        "id": "FrL9bWftHPTj",
        "outputId": "faa2b210-1e1f-40d7-9f61-f6353ef19fb9"
      },
      "source": [
        "# :AXT117\n",
        "facet= sns.FacetGrid(df,hue=\"DXCURREN\", aspect=3)\n",
        "facet.map(sns.kdeplot,'BAT126',shade= True)\n",
        "facet.set(xlim=(0, df['BAT126'].max()))\n",
        "facet.add_legend()\n",
        "plt.xlim(15.30)"
      ],
      "execution_count": 57,
      "outputs": [
        {
          "output_type": "execute_result",
          "data": {
            "text/plain": [
              "(15.3, 2033.056)"
            ]
          },
          "metadata": {
            "tags": []
          },
          "execution_count": 57
        },
        {
          "output_type": "display_data",
          "data": {
            "image/png": "[encoded data removed]",
            "text/plain": [
              "<Figure size 723.3x216 with 1 Axes>"
            ]
          },
          "metadata": {
            "tags": []
          }
        }
      ]
    },
    {
      "cell_type": "code",
      "metadata": {
        "colab": {
          "base_uri": "https://localhost:8080/",
          "height": 238
        },
        "id": "sH3cIpqzIF63",
        "outputId": "6f51fc94-d4be-4d9b-f4ec-88d90cd0b1b1"
      },
      "source": [
        "# :AXT117\n",
        "facet= sns.FacetGrid(df,hue=\"DXCURREN\", aspect=3)\n",
        "facet.map(sns.kdeplot,'RCT20',shade= True)\n",
        "facet.set(xlim=(0, df['RCT20'].max()))\n",
        "facet.add_legend()\n",
        "plt.xlim(15.30)"
      ],
      "execution_count": 58,
      "outputs": [
        {
          "output_type": "execute_result",
          "data": {
            "text/plain": [
              "(15.3, 367.31699999999995)"
            ]
          },
          "metadata": {
            "tags": []
          },
          "execution_count": 58
        },
        {
          "output_type": "display_data",
          "data": {
            "image/png": "[encoded data removed]",
            "text/plain": [
              "<Figure size 723.3x216 with 1 Axes>"
            ]
          },
          "metadata": {
            "tags": []
          }
        }
      ]
    },
    {
      "cell_type": "markdown",
      "metadata": {
        "id": "6pbdlINaBbe4"
      },
      "source": [
        " 17 features were selected out of a pool of 30 features the remaining 13 had low predicting power removing them increased the performance of the model. \n",
        " whish are 'RCT11', 'HMT40', 'RCT6', 'HMT13', 'MH9ENDO', 'LIMMTOTAL', 'MMSCORE', 'AXT117', 'RCT392', 'HMT100', 'HMT7', 'age', 'CDGLOBAL', 'BAT126', 'HMT102', 'LDELTOTAL', 'RCT20'"
      ]
    },
    {
      "cell_type": "code",
      "metadata": {
        "id": "9hEyeyJhBa1d"
      },
      "source": [
        "features_selected = df[['RCT11', 'HMT40', 'RCT6', 'HMT13', 'MH9ENDO', 'LIMMTOTAL', 'MMSCORE', 'AXT117', 'RCT392', 'HMT100', 'HMT7', 'age', 'CDGLOBAL', 'BAT126', 'HMT102', 'LDELTOTAL', 'RCT20']]"
      ],
      "execution_count": 59,
      "outputs": []
    },
    {
      "cell_type": "code",
      "metadata": {
        "colab": {
          "base_uri": "https://localhost:8080/"
        },
        "id": "BjS4fcv5BrCd",
        "outputId": "a8a513ed-8621-437e-d091-c132b8691b7f"
      },
      "source": [
        "features_selected.columns"
      ],
      "execution_count": 60,
      "outputs": [
        {
          "output_type": "execute_result",
          "data": {
            "text/plain": [
              "Index(['RCT11', 'HMT40', 'RCT6', 'HMT13', 'MH9ENDO', 'LIMMTOTAL', 'MMSCORE',\n",
              "       'AXT117', 'RCT392', 'HMT100', 'HMT7', 'age', 'CDGLOBAL', 'BAT126',\n",
              "       'HMT102', 'LDELTOTAL', 'RCT20'],\n",
              "      dtype='object')"
            ]
          },
          "metadata": {
            "tags": []
          },
          "execution_count": 60
        }
      ]
    },
    {
      "cell_type": "code",
      "metadata": {
        "colab": {
          "base_uri": "https://localhost:8080/",
          "height": 224
        },
        "id": "0AIzBU61CrQX",
        "outputId": "d53f541c-e94f-4bd6-a858-69d131cd0e01"
      },
      "source": [
        "features_selected.head()"
      ],
      "execution_count": 62,
      "outputs": [
        {
          "output_type": "execute_result",
          "data": {
            "text/html": [
              "<div>\n",
              "<style scoped>\n",
              "    .dataframe tbody tr th:only-of-type {\n",
              "        vertical-align: middle;\n",
              "    }\n",
              "\n",
              "    .dataframe tbody tr th {\n",
              "        vertical-align: top;\n",
              "    }\n",
              "\n",
              "    .dataframe thead th {\n",
              "        text-align: right;\n",
              "    }\n",
              "</style>\n",
              "<table border=\"1\" class=\"dataframe\">\n",
              "  <thead>\n",
              "    <tr style=\"text-align: right;\">\n",
              "      <th></th>\n",
              "      <th>RCT11</th>\n",
              "      <th>HMT40</th>\n",
              "      <th>RCT6</th>\n",
              "      <th>HMT13</th>\n",
              "      <th>MH9ENDO</th>\n",
              "      <th>LIMMTOTAL</th>\n",
              "      <th>MMSCORE</th>\n",
              "      <th>AXT117</th>\n",
              "      <th>RCT392</th>\n",
              "      <th>HMT100</th>\n",
              "      <th>HMT7</th>\n",
              "      <th>age</th>\n",
              "      <th>CDGLOBAL</th>\n",
              "      <th>BAT126</th>\n",
              "      <th>HMT102</th>\n",
              "      <th>LDELTOTAL</th>\n",
              "      <th>RCT20</th>\n",
              "    </tr>\n",
              "  </thead>\n",
              "  <tbody>\n",
              "    <tr>\n",
              "      <th>0</th>\n",
              "      <td>90.080</td>\n",
              "      <td>14.4</td>\n",
              "      <td>37.844</td>\n",
              "      <td>220.0</td>\n",
              "      <td>0</td>\n",
              "      <td>16</td>\n",
              "      <td>30</td>\n",
              "      <td>1.26</td>\n",
              "      <td>0.916</td>\n",
              "      <td>32.8</td>\n",
              "      <td>5.5</td>\n",
              "      <td>80</td>\n",
              "      <td>0.0</td>\n",
              "      <td>483.867</td>\n",
              "      <td>34.3</td>\n",
              "      <td>14</td>\n",
              "      <td>173.993</td>\n",
              "    </tr>\n",
              "    <tr>\n",
              "      <th>1</th>\n",
              "      <td>88.278</td>\n",
              "      <td>14.9</td>\n",
              "      <td>51.059</td>\n",
              "      <td>190.0</td>\n",
              "      <td>0</td>\n",
              "      <td>14</td>\n",
              "      <td>30</td>\n",
              "      <td>1.01</td>\n",
              "      <td>0.928</td>\n",
              "      <td>32.7</td>\n",
              "      <td>4.6</td>\n",
              "      <td>80</td>\n",
              "      <td>0.0</td>\n",
              "      <td>397.123</td>\n",
              "      <td>34.4</td>\n",
              "      <td>15</td>\n",
              "      <td>181.726</td>\n",
              "    </tr>\n",
              "    <tr>\n",
              "      <th>2</th>\n",
              "      <td>129.715</td>\n",
              "      <td>12.6</td>\n",
              "      <td>18.021</td>\n",
              "      <td>254.0</td>\n",
              "      <td>0</td>\n",
              "      <td>9</td>\n",
              "      <td>30</td>\n",
              "      <td>1.31</td>\n",
              "      <td>0.792</td>\n",
              "      <td>32.5</td>\n",
              "      <td>5.2</td>\n",
              "      <td>82</td>\n",
              "      <td>0.0</td>\n",
              "      <td>402.545</td>\n",
              "      <td>34.2</td>\n",
              "      <td>11</td>\n",
              "      <td>251.322</td>\n",
              "    </tr>\n",
              "    <tr>\n",
              "      <th>3</th>\n",
              "      <td>97.286</td>\n",
              "      <td>12.4</td>\n",
              "      <td>23.427</td>\n",
              "      <td>311.0</td>\n",
              "      <td>0</td>\n",
              "      <td>14</td>\n",
              "      <td>28</td>\n",
              "      <td>2.15</td>\n",
              "      <td>0.792</td>\n",
              "      <td>31.8</td>\n",
              "      <td>5.6</td>\n",
              "      <td>82</td>\n",
              "      <td>0.0</td>\n",
              "      <td>435.074</td>\n",
              "      <td>33.8</td>\n",
              "      <td>13</td>\n",
              "      <td>266.788</td>\n",
              "    </tr>\n",
              "    <tr>\n",
              "      <th>4</th>\n",
              "      <td>90.080</td>\n",
              "      <td>12.3</td>\n",
              "      <td>25.830</td>\n",
              "      <td>226.0</td>\n",
              "      <td>0</td>\n",
              "      <td>9</td>\n",
              "      <td>27</td>\n",
              "      <td>1.94</td>\n",
              "      <td>0.735</td>\n",
              "      <td>32.7</td>\n",
              "      <td>4.0</td>\n",
              "      <td>82</td>\n",
              "      <td>0.0</td>\n",
              "      <td>349.685</td>\n",
              "      <td>33.9</td>\n",
              "      <td>11</td>\n",
              "      <td>301.587</td>\n",
              "    </tr>\n",
              "  </tbody>\n",
              "</table>\n",
              "</div>"
            ],
            "text/plain": [
              "     RCT11  HMT40    RCT6  HMT13  ...   BAT126  HMT102  LDELTOTAL    RCT20\n",
              "0   90.080   14.4  37.844  220.0  ...  483.867    34.3         14  173.993\n",
              "1   88.278   14.9  51.059  190.0  ...  397.123    34.4         15  181.726\n",
              "2  129.715   12.6  18.021  254.0  ...  402.545    34.2         11  251.322\n",
              "3   97.286   12.4  23.427  311.0  ...  435.074    33.8         13  266.788\n",
              "4   90.080   12.3  25.830  226.0  ...  349.685    33.9         11  301.587\n",
              "\n",
              "[5 rows x 17 columns]"
            ]
          },
          "metadata": {
            "tags": []
          },
          "execution_count": 62
        }
      ]
    },
    {
      "cell_type": "code",
      "metadata": {
        "id": "yaf4IA4iCstw"
      },
      "source": [
        ""
      ],
      "execution_count": null,
      "outputs": []
    }
  ]
}